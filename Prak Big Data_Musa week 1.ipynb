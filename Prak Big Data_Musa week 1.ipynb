{
 "cells": [
  {
   "cell_type": "code",
   "execution_count": 10,
   "id": "fb5970c0-1e6f-4e67-92b6-3aba21a06983",
   "metadata": {},
   "outputs": [
    {
     "name": "stdout",
     "output_type": "stream",
     "text": [
      "+-------+----+--------------------+--------+------+\n",
      "|   Nama|Usia|           Pekerjaan|    Hobi|Gender|\n",
      "+-------+----+--------------------+--------+------+\n",
      "|   Musa|  20|           Programer|   Silat|     L|\n",
      "|  Mawan|  21|       Web Developer|Billiard|     L|\n",
      "|Kartika|  28|Software Development|  Renang|     P|\n",
      "|  Nimas|  34|               Dosen| Melukis|     P|\n",
      "+-------+----+--------------------+--------+------+\n",
      "\n"
     ]
    }
   ],
   "source": [
    "# 1\n",
    "import findspark\n",
    "findspark.init()\n",
    "\n",
    "from pyspark.sql import SparkSession\n",
    "\n",
    "# Memulai Spark session\n",
    "spark = SparkSession.builder.appName(\"BigDataPractice\").getOrCreate()\n",
    "\n",
    "# Membuat DataFrame sederhana\n",
    "data = [(\"Musa\", 20, \"Programer\", \"Silat\", \"L\" ), (\"Mawan\", 21, \"Web Developer\", \"Billiard\", \"L\"), (\"Kartika\", 28,\"Software Development\", \"Renang\", \"P\"), (\"Nimas\", 34, \"Dosen\", \"Melukis\", \"P\")]\n",
    "columns = [\"Nama\", \"Usia\", \"Pekerjaan\", \"Hobi\", \"Gender\"]\n",
    "df = spark.createDataFrame(data, columns)\n",
    "\n",
    "# Menampilkan DataFrame\n",
    "df.show()"
   ]
  },
  {
   "cell_type": "code",
   "execution_count": 11,
   "id": "c5b57955-7b92-449e-af82-2225f8ec88a0",
   "metadata": {},
   "outputs": [
    {
     "name": "stdout",
     "output_type": "stream",
     "text": [
      "Menampilkan DataFrame\n",
      "+-------+----+--------------------+--------+------+\n",
      "|   Nama|Usia|           Pekerjaan|    Hobi|Gender|\n",
      "+-------+----+--------------------+--------+------+\n",
      "|   Musa|  20|           Programer|   Silat|     L|\n",
      "|  Mawan|  21|       Web Developer|Billiard|     L|\n",
      "|Kartika|  28|Software Development|  Renang|     P|\n",
      "|  Nimas|  34|               Dosen| Melukis|     P|\n",
      "+-------+----+--------------------+--------+------+\n",
      "\n",
      "Filtering data\n",
      "+-----+----+-------------+--------+------+\n",
      "| Nama|Usia|    Pekerjaan|    Hobi|Gender|\n",
      "+-----+----+-------------+--------+------+\n",
      "| Musa|  20|    Programer|   Silat|     L|\n",
      "|Mawan|  21|Web Developer|Billiard|     L|\n",
      "+-----+----+-------------+--------+------+\n",
      "\n",
      "Menghitung rata-rata usia\n",
      "+---------+\n",
      "|avg(Usia)|\n",
      "+---------+\n",
      "|    25.75|\n",
      "+---------+\n",
      "\n",
      "Mengurutkan data berdasarkan nama\n",
      "+-------+----+--------------------+--------+------+\n",
      "|   Nama|Usia|           Pekerjaan|    Hobi|Gender|\n",
      "+-------+----+--------------------+--------+------+\n",
      "|   Musa|  20|           Programer|   Silat|     L|\n",
      "|  Mawan|  21|       Web Developer|Billiard|     L|\n",
      "|Kartika|  28|Software Development|  Renang|     P|\n",
      "|  Nimas|  34|               Dosen| Melukis|     P|\n",
      "+-------+----+--------------------+--------+------+\n",
      "\n"
     ]
    }
   ],
   "source": [
    "# 2\n",
    "from pyspark.sql import SparkSession\n",
    "\n",
    "# Memulai Spark session\n",
    "spark = SparkSession.builder.appName(\"BigDataPractice\").getOrCreate()\n",
    "\n",
    "# Membuat DataFrame sederhana\n",
    "data = [(\"Musa\", 20, \"Programer\", \"Silat\", \"L\" ), (\"Mawan\", 21, \"Web Developer\", \"Billiard\", \"L\"), (\"Kartika\", 28,\"Software Development\", \"Renang\", \"P\"), (\"Nimas\", 34, \"Dosen\", \"Melukis\", \"P\")]\n",
    "columns = [\"Nama\", \"Usia\", \"Pekerjaan\", \"Hobi\", \"Gender\"]\n",
    "df = spark.createDataFrame(data, columns)\n",
    "\n",
    "# Menampilkan DataFrame\n",
    "print(\"Menampilkan DataFrame\")\n",
    "df.show()\n",
    "\n",
    "# Filtering data\n",
    "print(\"Filtering data\")\n",
    "df_filtered = df.filter(df['Usia'] < 25)\n",
    "df_filtered.show()\n",
    "\n",
    "# Menghitung rata-rata usia\n",
    "print(\"Menghitung rata-rata usia\")\n",
    "from pyspark.sql.functions import avg\n",
    "df.groupBy().agg(avg(\"Usia\")).show()\n",
    "\n",
    "# Mengurutkan data berdasarkan nama\n",
    "print(\"Mengurutkan data berdasarkan nama\")\n",
    "df_sorted = df.orderBy(\"Usia\", descending=False)\n",
    "df_sorted.show()"
   ]
  },
  {
   "cell_type": "code",
   "execution_count": 13,
   "id": "1786f45e-a794-4c5d-aad6-4f20922b4d77",
   "metadata": {},
   "outputs": [
    {
     "name": "stdout",
     "output_type": "stream",
     "text": [
      "      Nama  Usia Asal Kota\n",
      "0     Musa    20  Magelang\n",
      "1    Mawan    21    Bekasi\n",
      "2  Kartika    28    Madiun\n",
      "3    Nimas    34  Boyolali\n",
      "\n",
      "Filtering data berdasarkan usia:\n"
     ]
    },
    {
     "data": {
      "text/html": [
       "<div>\n",
       "<style scoped>\n",
       "    .dataframe tbody tr th:only-of-type {\n",
       "        vertical-align: middle;\n",
       "    }\n",
       "\n",
       "    .dataframe tbody tr th {\n",
       "        vertical-align: top;\n",
       "    }\n",
       "\n",
       "    .dataframe thead th {\n",
       "        text-align: right;\n",
       "    }\n",
       "</style>\n",
       "<table border=\"1\" class=\"dataframe\">\n",
       "  <thead>\n",
       "    <tr style=\"text-align: right;\">\n",
       "      <th></th>\n",
       "      <th>Nama</th>\n",
       "      <th>Usia</th>\n",
       "      <th>Asal Kota</th>\n",
       "    </tr>\n",
       "  </thead>\n",
       "  <tbody>\n",
       "    <tr>\n",
       "      <th>2</th>\n",
       "      <td>Kartika</td>\n",
       "      <td>28</td>\n",
       "      <td>Madiun</td>\n",
       "    </tr>\n",
       "    <tr>\n",
       "      <th>3</th>\n",
       "      <td>Nimas</td>\n",
       "      <td>34</td>\n",
       "      <td>Boyolali</td>\n",
       "    </tr>\n",
       "  </tbody>\n",
       "</table>\n",
       "</div>"
      ],
      "text/plain": [
       "      Nama  Usia Asal Kota\n",
       "2  Kartika    28    Madiun\n",
       "3    Nimas    34  Boyolali"
      ]
     },
     "execution_count": 13,
     "metadata": {},
     "output_type": "execute_result"
    }
   ],
   "source": [
    "# 3\n",
    "import pandas as pd\n",
    "\n",
    "# Membuat DataFrame Pandas\n",
    "data_pandas = {\"Nama\": [\"Musa\", \"Mawan\", \"Kartika\", \"Nimas\"], \"Usia\": [20, 21, 28, 34], \"Asal Kota\": [\"Magelang\", \"Bekasi\", \"Madiun\", \"Boyolali\"]}\n",
    "df_pandas = pd.DataFrame(data_pandas)\n",
    "\n",
    "# Menampilkan DataFrame Pandas \n",
    "print(df_pandas)\n",
    "print()\n",
    "\n",
    "print(\"Filtering data berdasarkan usia:\")\n",
    "# Filtering data berdasarkan usia  \n",
    "df_filter = df_pandas[df_pandas[\"Usia\"] >= 23]\n",
    "\n",
    "# Menampilkan DataFrame yang telah difilter  \n",
    "df_filter = pd.DataFrame(df_filter)\n",
    "df_filter"
   ]
  },
  {
   "cell_type": "code",
   "execution_count": 14,
   "id": "3bdb5bc2-36c4-471e-a009-5177da41ee68",
   "metadata": {},
   "outputs": [
    {
     "name": "stdout",
     "output_type": "stream",
     "text": [
      "      Nama  Usia             Pekerjaan\n",
      "0     Musa    20             Programer\n",
      "1    Mawan    21         Web Developer\n",
      "2  Kartika    28  Software Development\n",
      "3    Nimas    34                 Dosen\n",
      "            Usia\n",
      "count   4.000000\n",
      "mean   25.750000\n",
      "std     6.551081\n",
      "min    20.000000\n",
      "25%    20.750000\n",
      "50%    24.500000\n",
      "75%    29.500000\n",
      "max    34.000000\n"
     ]
    },
    {
     "data": {
      "image/png": "[encoded data removed]",
      "text/plain": [
       "<Figure size 640x480 with 1 Axes>"
      ]
     },
     "metadata": {},
     "output_type": "display_data"
    },
    {
     "data": {
      "image/png": "[encoded data removed]",
      "text/plain": [
       "<Figure size 640x480 with 1 Axes>"
      ]
     },
     "metadata": {},
     "output_type": "display_data"
    }
   ],
   "source": [
    "# 4\n",
    "import pandas as pd\n",
    "\n",
    "# Membuat DataFrame Pandas\n",
    "data_pandas = {\"Nama\": [\"Musa\", \"Mawan\", \"Kartika\", \"Nimas\"], \"Usia\": [20, 21, 28, 34]}\n",
    "df_pandas = pd.DataFrame(data_pandas)\n",
    "\n",
    "# Membuat DataFrame kedua\n",
    "data_pandas_2 = {\"Nama\": [\"Musa\", \"Mawan\", \"Kartika\", \"Nimas\"], \"Pekerjaan\": [\"Programer\", \"Web Developer\", \"Software Development\", \"Dosen\"]}\n",
    "df_pandas_2 = pd.DataFrame(data_pandas_2)\n",
    "\n",
    "# Join antara dua DataFrame\n",
    "df_joined = pd.merge(df_pandas, df_pandas_2, on=\"Nama\")\n",
    "print(df_joined)\n",
    "\n",
    "data_pekerjaan= df_joined['Pekerjaan'].value_counts()\n",
    "\n",
    "# Menghitung statistik deskriptif\n",
    "print(df_pandas.describe())\n",
    "\n",
    "# Plotting Data usia\n",
    "import matplotlib.pyplot as plt\n",
    "df_pandas['Usia'].plot(kind='bar')\n",
    "plt.title('Data Usia')\n",
    "plt.xlabel('Nama')\n",
    "plt.ylabel('Usia')\n",
    "plt.xticks(ticks=range(len(df_pandas)), labels=df_pandas['Nama'], rotation=0)\n",
    "plt.show()\n",
    "\n",
    "#Plotting data pekerjaan\n",
    "data_pekerjaan.plot(kind='bar', color='Red')\n",
    "plt.title('Data Pekerjaan')\n",
    "plt.xlabel('Pekerjaan')\n",
    "plt.ylabel('Jumlah Orang')\n",
    "plt.xticks(rotation=0)\n",
    "plt.show()"
   ]
  },
  {
   "cell_type": "code",
   "execution_count": 15,
   "id": "a0e2f08e-0995-4fa1-9cb4-4e06686b93c5",
   "metadata": {},
   "outputs": [
    {
     "name": "stdout",
     "output_type": "stream",
     "text": [
      "+-------+----+\n",
      "|   Nama|Usia|\n",
      "+-------+----+\n",
      "|   Musa|  20|\n",
      "|  Mawan|  21|\n",
      "|Kartika|  28|\n",
      "|  Nimas|  34|\n",
      "+-------+----+\n",
      "\n",
      "      Nama  Usia             Pekerjaan      Hobi Gender\n",
      "0     Musa    20             Programer     Silat      L\n",
      "1    Mawan    21         Web Developer  Billiard      L\n",
      "2  Kartika    28  Software Development    Renang      P\n",
      "3    Nimas    34                 Dosen   Melukis      P\n",
      "\n",
      "Penggabungan data Pyspark dan Pandas:\n",
      "+-------+------+--------------------+--------+------+------+\n",
      "|   Nama|Usia_x|           Pekerjaan|    Hobi|Gender|Usia_y|\n",
      "+-------+------+--------------------+--------+------+------+\n",
      "|   Musa|    20|           Programer|   Silat|     L|    20|\n",
      "|  Mawan|    21|       Web Developer|Billiard|     L|    21|\n",
      "|Kartika|    28|Software Development|  Renang|     P|    28|\n",
      "|  Nimas|    34|               Dosen| Melukis|     P|    34|\n",
      "+-------+------+--------------------+--------+------+------+\n",
      "\n",
      "Rata-rata usia: 25.75\n"
     ]
    }
   ],
   "source": [
    "# 5\n",
    "# Mengonversi DataFrame dari PySpark ke Pandas\n",
    "df_pandas_from_spark = df.toPandas()\n",
    "\n",
    "# Mengonversi DataFrame dari Pandas ke PySpark\n",
    "df_spark_from_pandas = spark.createDataFrame(df_pandas)\n",
    "\n",
    "# Menampilkan DataFrame hasil konversi\n",
    "df_spark_from_pandas.show()\n",
    "print(df_pandas_from_spark)\n",
    "\n",
    "#Menggagubangkan DataFrame\n",
    "df_combined_pandas = pd.merge(df_pandas_from_spark, df_pandas, on=\"Nama\", how=\"left\")\n",
    "\n",
    "df_combined_spark = spark.createDataFrame(df_combined_pandas)\n",
    "\n",
    "#Menampilkan data gabungan\n",
    "print()\n",
    "print(\"Penggabungan data Pyspark dan Pandas:\")\n",
    "df_combined_spark.show()\n",
    "\n",
    "#Menghitung rata-rata usia\n",
    "avg_usia = df_pandas_from_spark['Usia'].mean()\n",
    "print(f\"Rata-rata usia: {avg_usia}\")\n"
   ]
  },
  {
   "cell_type": "code",
   "execution_count": 16,
   "id": "57c06a83-c56a-483a-ab75-8667746f6764",
   "metadata": {},
   "outputs": [
    {
     "name": "stdout",
     "output_type": "stream",
     "text": [
      "+-------+----+\n",
      "|   Nama|Usia|\n",
      "+-------+----+\n",
      "|   Musa|  20|\n",
      "|  Mawan|  21|\n",
      "|Kartika|  28|\n",
      "|  Nimas|  34|\n",
      "+-------+----+\n",
      "\n",
      "      Nama  Usia             Pekerjaan      Hobi Gender\n",
      "0     Musa    20             Programer     Silat      L\n",
      "1    Mawan    21         Web Developer  Billiard      L\n",
      "2  Kartika    28  Software Development    Renang      P\n",
      "3    Nimas    34                 Dosen   Melukis      P\n",
      "\n",
      "Gabungan data dari pandas dan spark:\n",
      "+-------+------+--------------------+--------+------+------+\n",
      "|   Nama|Usia_x|           Pekerjaan|    Hobi|Gender|Usia_y|\n",
      "+-------+------+--------------------+--------+------+------+\n",
      "|   Musa|    20|           Programer|   Silat|     L|    20|\n",
      "|  Mawan|    21|       Web Developer|Billiard|     L|    21|\n",
      "|Kartika|    28|Software Development|  Renang|     P|    28|\n",
      "|  Nimas|    34|               Dosen| Melukis|     P|    34|\n",
      "+-------+------+--------------------+--------+------+------+\n",
      "\n",
      "Nilai maksimum usia: 34\n"
     ]
    }
   ],
   "source": [
    "# 6\n",
    "# Mengonversi DataFrame dari PySpark ke Pandas\n",
    "df_pandas_from_spark = df.toPandas()\n",
    "\n",
    "# Mengonversi DataFrame dari Pandas ke PySpark\n",
    "df_spark_from_pandas = spark.createDataFrame(df_pandas)\n",
    "\n",
    "# Menampilkan DataFrame hasil konversi\n",
    "df_spark_from_pandas.show()\n",
    "print(df_pandas_from_spark)\n",
    "\n",
    "#Menggagubangkan DataFrame\n",
    "df_combined_pandas = pd.merge(df_pandas_from_spark, df_pandas, on=\"Nama\", how=\"left\")\n",
    "\n",
    "df_combined_spark = spark.createDataFrame(df_combined_pandas)\n",
    "\n",
    "#Menampilkan data gabungan\n",
    "print()\n",
    "print(\"Gabungan data dari pandas dan spark:\")\n",
    "df_combined_spark.show()\n",
    "\n",
    "# Menghitung nilai maksimum dari kolom \"Usia\"\n",
    "max_usia = df_pandas_from_spark[\"Usia\"].max()\n",
    "print(f\"Nilai maksimum usia: {max_usia}\")"
   ]
  },
  {
   "cell_type": "code",
   "execution_count": null,
   "id": "50dfa0a2-7844-4817-92ae-25695a239364",
   "metadata": {},
   "outputs": [],
   "source": []
  }
 ],
 "metadata": {
  "kernelspec": {
   "display_name": "Python 3 (ipykernel)",
   "language": "python",
   "name": "python3"
  },
  "language_info": {
   "codemirror_mode": {
    "name": "ipython",
    "version": 3
   },
   "file_extension": ".py",
   "mimetype": "text/x-python",
   "name": "python",
   "nbconvert_exporter": "python",
   "pygments_lexer": "ipython3",
   "version": "3.11.9"
  }
 },
 "nbformat": 4,
 "nbformat_minor": 5
}
