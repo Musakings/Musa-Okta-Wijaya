{
  "nbformat": 4,
  "nbformat_minor": 0,
  "metadata": {
    "colab": {
      "provenance": []
    },
    "kernelspec": {
      "name": "python3",
      "display_name": "Python 3"
    },
    "language_info": {
      "name": "python"
    }
  },
  "cells": [
    {
      "cell_type": "code",
      "execution_count": 1,
      "metadata": {
        "colab": {
          "base_uri": "https://localhost:8080/"
        },
        "id": "P3gl3lqNd2Ch",
        "outputId": "c75f2de1-13c4-4acf-ac72-a29796c2fbf3"
      },
      "outputs": [
        {
          "output_type": "stream",
          "name": "stdout",
          "text": [
            "{'kosong': 2, 'adalah': 2, 'isi': 2, 'dan': 1}\n"
          ]
        }
      ],
      "source": [
        "from collections import defaultdict\n",
        "def map_function(text):\n",
        "  for word in text.split():\n",
        "    yield(word,1)\n",
        "\n",
        "def reduce_function(pairs):\n",
        "    result = defaultdict(int)\n",
        "    for word, count in pairs:\n",
        "        result[word] += count\n",
        "    return result\n",
        "\n",
        "kata = \"kosong adalah isi dan isi adalah kosong\"\n",
        "\n",
        "pairs = map_function(kata)\n",
        "output = reduce_function(pairs)\n",
        "print(dict (output))"
      ]
    }
  ]
}